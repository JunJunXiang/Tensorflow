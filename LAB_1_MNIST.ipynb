{
 "cells": [
  {
   "cell_type": "markdown",
   "metadata": {},
   "source": [
    "# 手寫辦認"
   ]
  },
  {
   "cell_type": "code",
   "execution_count": 1,
   "metadata": {
    "scrolled": true
   },
   "outputs": [
    {
     "name": "stderr",
     "output_type": "stream",
     "text": [
      "C:\\Users\\ga456\\Anaconda3\\envs\\tensorflow\\lib\\site-packages\\h5py\\__init__.py:36: FutureWarning: Conversion of the second argument of issubdtype from `float` to `np.floating` is deprecated. In future, it will be treated as `np.float64 == np.dtype(float).type`.\n",
      "  from ._conv import register_converters as _register_converters\n"
     ]
    },
    {
     "name": "stdout",
     "output_type": "stream",
     "text": [
      "WARNING:tensorflow:From <ipython-input-1-9616fe41ba62>:7: read_data_sets (from tensorflow.contrib.learn.python.learn.datasets.mnist) is deprecated and will be removed in a future version.\n",
      "Instructions for updating:\n",
      "Please use alternatives such as official/mnist/dataset.py from tensorflow/models.\n",
      "WARNING:tensorflow:From C:\\Users\\ga456\\Anaconda3\\envs\\tensorflow\\lib\\site-packages\\tensorflow\\contrib\\learn\\python\\learn\\datasets\\mnist.py:260: maybe_download (from tensorflow.contrib.learn.python.learn.datasets.base) is deprecated and will be removed in a future version.\n",
      "Instructions for updating:\n",
      "Please write your own downloading logic.\n",
      "WARNING:tensorflow:From C:\\Users\\ga456\\Anaconda3\\envs\\tensorflow\\lib\\site-packages\\tensorflow\\contrib\\learn\\python\\learn\\datasets\\mnist.py:262: extract_images (from tensorflow.contrib.learn.python.learn.datasets.mnist) is deprecated and will be removed in a future version.\n",
      "Instructions for updating:\n",
      "Please use tf.data to implement this functionality.\n",
      "Extracting MNIST/MNIST_data/train-images-idx3-ubyte.gz\n",
      "WARNING:tensorflow:From C:\\Users\\ga456\\Anaconda3\\envs\\tensorflow\\lib\\site-packages\\tensorflow\\contrib\\learn\\python\\learn\\datasets\\mnist.py:267: extract_labels (from tensorflow.contrib.learn.python.learn.datasets.mnist) is deprecated and will be removed in a future version.\n",
      "Instructions for updating:\n",
      "Please use tf.data to implement this functionality.\n",
      "Extracting MNIST/MNIST_data/train-labels-idx1-ubyte.gz\n",
      "WARNING:tensorflow:From C:\\Users\\ga456\\Anaconda3\\envs\\tensorflow\\lib\\site-packages\\tensorflow\\contrib\\learn\\python\\learn\\datasets\\mnist.py:110: dense_to_one_hot (from tensorflow.contrib.learn.python.learn.datasets.mnist) is deprecated and will be removed in a future version.\n",
      "Instructions for updating:\n",
      "Please use tf.one_hot on tensors.\n",
      "Extracting MNIST/MNIST_data/t10k-images-idx3-ubyte.gz\n",
      "Extracting MNIST/MNIST_data/t10k-labels-idx1-ubyte.gz\n",
      "WARNING:tensorflow:From C:\\Users\\ga456\\Anaconda3\\envs\\tensorflow\\lib\\site-packages\\tensorflow\\contrib\\learn\\python\\learn\\datasets\\mnist.py:290: DataSet.__init__ (from tensorflow.contrib.learn.python.learn.datasets.mnist) is deprecated and will be removed in a future version.\n",
      "Instructions for updating:\n",
      "Please use alternatives such as official/mnist/dataset.py from tensorflow/models.\n",
      "train image: (55000, 784)\n",
      "train label: (55000, 10)\n",
      "test image: (10000, 784)\n",
      "test label (10000, 10)\n"
     ]
    }
   ],
   "source": [
    "import numpy as np\n",
    "import tensorflow as tf\n",
    "import matplotlib.pyplot as plt\n",
    "%matplotlib inline\n",
    "\n",
    "import tensorflow.examples.tutorials.mnist.input_data as input_data\n",
    "mnist = input_data.read_data_sets(\"MNIST/MNIST_data/\",one_hot=True)\n",
    "print('train image:',mnist.train.images.shape)\n",
    "print('train label:',mnist.train.labels.shape)\n",
    "print('test image:',mnist.test.images.shape)\n",
    "print('test label', mnist.test.labels.shape)"
   ]
  },
  {
   "cell_type": "code",
   "execution_count": 2,
   "metadata": {},
   "outputs": [],
   "source": [
    "n_input = 784\n",
    "n_hidden_1 = 512\n",
    "n_hidden_2 = 512\n",
    "n_classes = 10\n",
    "\n",
    "learning_rate = 0.01\n",
    "batch_size = 100\n",
    "total_step = 10000"
   ]
  },
  {
   "cell_type": "code",
   "execution_count": 3,
   "metadata": {},
   "outputs": [],
   "source": [
    "x = tf.placeholder(tf.float32, [None, n_input])\n",
    "y_ = tf.placeholder(tf.float32, [None, n_classes])\n",
    "y_relu_ = tf.placeholder(tf.float32, [None, n_classes])\n",
    "\n",
    "\n",
    "with tf.name_scope('hidden1'):\n",
    "    \n",
    "    weights = tf.Variable(tf.random_normal([n_input, n_hidden_1]),\n",
    "                            name = 'weights')\n",
    "    biases = tf.Variable(tf.random_normal([n_hidden_1]),\n",
    "                            name = 'biases')\n",
    "    layer_1 = tf.nn.relu(tf.matmul(x, weights) + biases)\n",
    "    \n",
    "with tf.name_scope('hidden2'):\n",
    "    weights = tf.Variable(tf.random_normal([n_hidden_1, n_hidden_2]),\n",
    "                            name = 'weights')\n",
    "    biases = tf.Variable(tf.random_normal([n_hidden_2]),\n",
    "                            name = 'biases')\n",
    "    layer_2 = tf.nn.relu(tf.matmul(layer_1, weights) + biases)\n",
    "\n",
    "with tf.name_scope('output'):\n",
    "    weights = tf.Variable(tf.random_normal([n_hidden_2, n_classes]),\n",
    "                            name = 'weights')\n",
    "    biases = tf.Variable(tf.random_normal([n_classes]),\n",
    "                            name = 'biases')\n",
    "    logits = tf.matmul(layer_2, weights) + biases"
   ]
  },
  {
   "cell_type": "code",
   "execution_count": 4,
   "metadata": {},
   "outputs": [
    {
     "data": {
      "text/plain": [
       "<tf.Tensor 'loss:0' shape=() dtype=string>"
      ]
     },
     "execution_count": 4,
     "metadata": {},
     "output_type": "execute_result"
    }
   ],
   "source": [
    "with tf.name_scope('cross_entropy'):\n",
    "    cross_entropy = tf.reduce_mean(tf.nn.softmax_cross_entropy_with_logits_v2(logits=logits, labels=y_))\n",
    "tf.summary.scalar('loss', cross_entropy)"
   ]
  },
  {
   "cell_type": "code",
   "execution_count": 5,
   "metadata": {},
   "outputs": [],
   "source": [
    "with tf.name_scope('train'):\n",
    "    train_step = tf.train.GradientDescentOptimizer(learning_rate).minimize(cross_entropy)        "
   ]
  },
  {
   "cell_type": "code",
   "execution_count": 6,
   "metadata": {},
   "outputs": [
    {
     "data": {
      "text/plain": [
       "<tf.Tensor 'acc:0' shape=() dtype=string>"
      ]
     },
     "execution_count": 6,
     "metadata": {},
     "output_type": "execute_result"
    }
   ],
   "source": [
    "with tf.name_scope('accuracy'):\n",
    "    y = tf.nn.softmax(logits)\n",
    "    correct_prediction = tf.equal(tf.argmax(y,1), tf.argmax(y_,1))\n",
    "    accuracy = tf.reduce_mean(tf.cast(correct_prediction, 'float'))\n",
    "tf.summary.scalar('acc',accuracy)"
   ]
  },
  {
   "cell_type": "code",
   "execution_count": 7,
   "metadata": {},
   "outputs": [
    {
     "name": "stdout",
     "output_type": "stream",
     "text": [
      "step:   0\t loss:8737.08\t acc:0.25\t test_loss8017.99\t test_acc:0.15\n",
      "step: 100\t loss:72.16\t acc:0.83\t test_loss81.30\t test_acc:0.84\n",
      "step: 200\t loss:6.27\t acc:0.97\t test_loss52.88\t test_acc:0.88\n",
      "step: 300\t loss:31.83\t acc:0.93\t test_loss40.32\t test_acc:0.89\n",
      "step: 400\t loss:18.32\t acc:0.95\t test_loss34.87\t test_acc:0.90\n",
      "step: 500\t loss:4.89\t acc:0.97\t test_loss29.54\t test_acc:0.91\n",
      "step: 600\t loss:12.94\t acc:0.94\t test_loss26.58\t test_acc:0.91\n",
      "step: 700\t loss:10.11\t acc:0.97\t test_loss24.30\t test_acc:0.92\n",
      "step: 800\t loss:1.32\t acc:0.97\t test_loss23.48\t test_acc:0.92\n",
      "step: 900\t loss:9.20\t acc:0.96\t test_loss22.01\t test_acc:0.92\n",
      "step:1000\t loss:6.61\t acc:0.98\t test_loss21.19\t test_acc:0.92\n",
      "step:1100\t loss:5.60\t acc:0.98\t test_loss19.51\t test_acc:0.92\n",
      "step:1200\t loss:0.00\t acc:1.00\t test_loss19.14\t test_acc:0.92\n",
      "step:1300\t loss:6.22\t acc:0.98\t test_loss18.08\t test_acc:0.92\n",
      "step:1400\t loss:0.00\t acc:1.00\t test_loss17.58\t test_acc:0.93\n",
      "step:1500\t loss:2.35\t acc:0.99\t test_loss17.51\t test_acc:0.92\n",
      "step:1600\t loss:8.05\t acc:0.98\t test_loss17.12\t test_acc:0.93\n",
      "step:1700\t loss:3.03\t acc:0.98\t test_loss16.45\t test_acc:0.93\n",
      "step:1800\t loss:0.00\t acc:1.00\t test_loss15.96\t test_acc:0.93\n",
      "step:1900\t loss:0.00\t acc:1.00\t test_loss15.92\t test_acc:0.93\n",
      "step:2000\t loss:0.00\t acc:1.00\t test_loss15.77\t test_acc:0.93\n",
      "step:2100\t loss:2.18\t acc:0.97\t test_loss15.57\t test_acc:0.93\n",
      "step:2200\t loss:0.00\t acc:1.00\t test_loss14.54\t test_acc:0.93\n",
      "step:2300\t loss:0.19\t acc:0.98\t test_loss14.83\t test_acc:0.93\n",
      "step:2400\t loss:5.77\t acc:0.98\t test_loss14.87\t test_acc:0.93\n",
      "step:2500\t loss:0.00\t acc:1.00\t test_loss14.34\t test_acc:0.93\n",
      "step:2600\t loss:0.00\t acc:1.00\t test_loss14.26\t test_acc:0.94\n",
      "step:2700\t loss:0.19\t acc:0.99\t test_loss14.11\t test_acc:0.93\n",
      "step:2800\t loss:0.15\t acc:0.99\t test_loss13.89\t test_acc:0.93\n",
      "step:2900\t loss:0.00\t acc:1.00\t test_loss14.00\t test_acc:0.93\n",
      "step:3000\t loss:0.68\t acc:0.98\t test_loss13.75\t test_acc:0.93\n",
      "step:3100\t loss:0.00\t acc:1.00\t test_loss13.54\t test_acc:0.94\n",
      "step:3200\t loss:0.00\t acc:1.00\t test_loss13.35\t test_acc:0.93\n",
      "step:3300\t loss:1.60\t acc:0.99\t test_loss13.42\t test_acc:0.93\n",
      "step:3400\t loss:1.53\t acc:0.99\t test_loss13.59\t test_acc:0.93\n",
      "step:3500\t loss:0.00\t acc:1.00\t test_loss13.34\t test_acc:0.93\n",
      "step:3600\t loss:0.00\t acc:1.00\t test_loss13.65\t test_acc:0.93\n",
      "step:3700\t loss:0.00\t acc:1.00\t test_loss13.09\t test_acc:0.93\n",
      "step:3800\t loss:2.70\t acc:0.99\t test_loss13.31\t test_acc:0.93\n",
      "step:3900\t loss:0.00\t acc:1.00\t test_loss13.12\t test_acc:0.94\n",
      "step:4000\t loss:0.00\t acc:1.00\t test_loss13.03\t test_acc:0.93\n",
      "step:4100\t loss:0.00\t acc:1.00\t test_loss12.93\t test_acc:0.93\n",
      "step:4200\t loss:0.00\t acc:1.00\t test_loss13.20\t test_acc:0.94\n",
      "step:4300\t loss:0.00\t acc:1.00\t test_loss12.78\t test_acc:0.94\n",
      "step:4400\t loss:0.00\t acc:1.00\t test_loss12.76\t test_acc:0.94\n",
      "step:4500\t loss:0.00\t acc:1.00\t test_loss12.82\t test_acc:0.94\n",
      "step:4600\t loss:0.00\t acc:1.00\t test_loss12.83\t test_acc:0.94\n",
      "step:4700\t loss:0.00\t acc:1.00\t test_loss12.72\t test_acc:0.94\n",
      "step:4800\t loss:0.00\t acc:1.00\t test_loss12.71\t test_acc:0.94\n",
      "step:4900\t loss:0.00\t acc:1.00\t test_loss12.71\t test_acc:0.94\n",
      "step:5000\t loss:0.00\t acc:1.00\t test_loss12.69\t test_acc:0.94\n",
      "step:5100\t loss:0.00\t acc:1.00\t test_loss12.53\t test_acc:0.94\n",
      "step:5200\t loss:0.00\t acc:1.00\t test_loss12.64\t test_acc:0.94\n",
      "step:5300\t loss:0.06\t acc:0.99\t test_loss12.46\t test_acc:0.94\n",
      "step:5400\t loss:0.00\t acc:1.00\t test_loss12.44\t test_acc:0.94\n",
      "step:5500\t loss:0.00\t acc:1.00\t test_loss12.26\t test_acc:0.94\n",
      "step:5600\t loss:0.00\t acc:1.00\t test_loss12.35\t test_acc:0.94\n",
      "step:5700\t loss:0.00\t acc:1.00\t test_loss12.44\t test_acc:0.94\n",
      "step:5800\t loss:0.00\t acc:1.00\t test_loss12.19\t test_acc:0.94\n",
      "step:5900\t loss:0.00\t acc:1.00\t test_loss12.45\t test_acc:0.94\n",
      "step:6000\t loss:0.00\t acc:1.00\t test_loss12.42\t test_acc:0.94\n",
      "step:6100\t loss:0.00\t acc:1.00\t test_loss12.48\t test_acc:0.94\n",
      "step:6200\t loss:0.00\t acc:1.00\t test_loss12.46\t test_acc:0.94\n",
      "step:6300\t loss:0.00\t acc:1.00\t test_loss12.41\t test_acc:0.94\n",
      "step:6400\t loss:0.00\t acc:1.00\t test_loss12.42\t test_acc:0.94\n",
      "step:6500\t loss:0.00\t acc:1.00\t test_loss12.48\t test_acc:0.94\n",
      "step:6600\t loss:0.00\t acc:1.00\t test_loss12.47\t test_acc:0.94\n",
      "step:6700\t loss:0.00\t acc:1.00\t test_loss12.36\t test_acc:0.94\n",
      "step:6800\t loss:0.00\t acc:1.00\t test_loss12.24\t test_acc:0.94\n",
      "step:6900\t loss:0.00\t acc:1.00\t test_loss12.33\t test_acc:0.94\n",
      "step:7000\t loss:0.00\t acc:1.00\t test_loss12.30\t test_acc:0.94\n",
      "step:7100\t loss:0.00\t acc:1.00\t test_loss12.38\t test_acc:0.94\n",
      "step:7200\t loss:0.00\t acc:1.00\t test_loss12.37\t test_acc:0.94\n",
      "step:7300\t loss:0.00\t acc:1.00\t test_loss12.20\t test_acc:0.94\n",
      "step:7400\t loss:0.00\t acc:1.00\t test_loss12.14\t test_acc:0.94\n",
      "step:7500\t loss:0.00\t acc:1.00\t test_loss12.09\t test_acc:0.94\n",
      "step:7600\t loss:0.00\t acc:1.00\t test_loss12.06\t test_acc:0.94\n",
      "step:7700\t loss:0.00\t acc:1.00\t test_loss12.07\t test_acc:0.94\n",
      "step:7800\t loss:0.00\t acc:1.00\t test_loss12.03\t test_acc:0.94\n",
      "step:7900\t loss:0.00\t acc:1.00\t test_loss12.09\t test_acc:0.94\n",
      "step:8000\t loss:0.00\t acc:1.00\t test_loss12.14\t test_acc:0.94\n",
      "step:8100\t loss:0.00\t acc:1.00\t test_loss12.01\t test_acc:0.94\n",
      "step:8200\t loss:0.00\t acc:1.00\t test_loss12.30\t test_acc:0.94\n",
      "step:8300\t loss:0.00\t acc:1.00\t test_loss12.23\t test_acc:0.94\n",
      "step:8400\t loss:0.00\t acc:1.00\t test_loss12.24\t test_acc:0.94\n",
      "step:8500\t loss:0.00\t acc:1.00\t test_loss12.22\t test_acc:0.94\n",
      "step:8600\t loss:0.00\t acc:1.00\t test_loss12.24\t test_acc:0.94\n",
      "step:8700\t loss:0.00\t acc:1.00\t test_loss12.17\t test_acc:0.94\n",
      "step:8800\t loss:0.00\t acc:1.00\t test_loss12.13\t test_acc:0.94\n",
      "step:8900\t loss:0.00\t acc:1.00\t test_loss12.19\t test_acc:0.94\n",
      "step:9000\t loss:0.00\t acc:1.00\t test_loss12.24\t test_acc:0.94\n",
      "step:9100\t loss:0.00\t acc:1.00\t test_loss12.34\t test_acc:0.94\n",
      "step:9200\t loss:0.00\t acc:1.00\t test_loss12.21\t test_acc:0.94\n",
      "step:9300\t loss:0.00\t acc:1.00\t test_loss12.10\t test_acc:0.94\n",
      "step:9400\t loss:0.00\t acc:1.00\t test_loss12.24\t test_acc:0.94\n",
      "step:9500\t loss:0.00\t acc:1.00\t test_loss12.23\t test_acc:0.94\n",
      "step:9600\t loss:0.02\t acc:0.99\t test_loss12.25\t test_acc:0.94\n",
      "step:9700\t loss:0.00\t acc:1.00\t test_loss12.32\t test_acc:0.94\n",
      "step:9800\t loss:0.00\t acc:1.00\t test_loss12.35\t test_acc:0.94\n",
      "step:9900\t loss:0.00\t acc:1.00\t test_loss12.21\t test_acc:0.94\n"
     ]
    }
   ],
   "source": [
    "init = tf.global_variables_initializer()\n",
    "merged = tf.summary.merge_all()\n",
    "\n",
    "with tf.Session() as sess:\n",
    "    sess.run(init)\n",
    "    \n",
    "    test_writer = tf.summary.FileWriter('MNIST/logs/106310224_106310232_lr_0.01')\n",
    "    \n",
    "    for i in range(total_step):\n",
    "        batch_xs, batch_ys = mnist.train.next_batch(batch_size)\n",
    "        \n",
    "        sess.run(train_step, feed_dict={x:batch_xs, y_:batch_ys})\n",
    "                \n",
    "        #summary, _ = sess.run([merged, train_step], feed_dict={x:batch_xs, y_:batch_ys})\n",
    "        #train_writer.add_summary(summary,i)\n",
    "        \n",
    "        if i%50 == 0:\n",
    "            summary = sess.run(merged, feed_dict={x:batch_xs, y_:batch_ys})\n",
    "            test_writer.add_summary(summary,i)\n",
    "            \n",
    "        if i %100 == 0:\n",
    "            loss, acc = sess.run([cross_entropy, accuracy],\n",
    "                                 feed_dict = {x:batch_xs, y_:batch_ys})\n",
    "            test_loss, test_acc = sess.run([cross_entropy, accuracy],\n",
    "                                           feed_dict={x:mnist.test.images, y_:mnist.test.labels})\n",
    "            \n",
    "            print('step:{:4d}\\t loss:{:.2f}\\t acc:{:.2f}\\t test_loss{:.2f}\\t test_acc:{:.2f}'.\n",
    "                  format(i, loss, acc, test_loss, test_acc))\n",
    "    #train_writer.close()\n",
    "    test_writer.close()"
   ]
  },
  {
   "cell_type": "code",
   "execution_count": null,
   "metadata": {},
   "outputs": [],
   "source": []
  }
 ],
 "metadata": {
  "kernelspec": {
   "display_name": "Python 3",
   "language": "python",
   "name": "python3"
  },
  "language_info": {
   "codemirror_mode": {
    "name": "ipython",
    "version": 3
   },
   "file_extension": ".py",
   "mimetype": "text/x-python",
   "name": "python",
   "nbconvert_exporter": "python",
   "pygments_lexer": "ipython3",
   "version": "3.6.9"
  }
 },
 "nbformat": 4,
 "nbformat_minor": 2
}
